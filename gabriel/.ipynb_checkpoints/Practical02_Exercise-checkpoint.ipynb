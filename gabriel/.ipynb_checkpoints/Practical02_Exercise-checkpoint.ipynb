{
 "cells": [
  {
   "cell_type": "markdown",
   "id": "1ff7de0e",
   "metadata": {
    "cell_id": "2a0b5982-5277-4840-b6bf-76731011c2d3",
    "deepnote_cell_height": 82,
    "deepnote_cell_type": "markdown"
   },
   "source": [
    "# Practical 02 Exercises"
   ]
  },
  {
   "cell_type": "markdown",
   "id": "677a37c5",
   "metadata": {
    "cell_id": "00001-38498478-8199-4a5d-9c3e-2e44a7444a81",
    "deepnote_cell_height": 52.399993896484375,
    "deepnote_cell_type": "markdown"
   },
   "source": [
    "\n",
    "\n",
    "\n",
    "b / sin(theta) = hypp / sin(90) = a / sin(theta - 1)\n",
    "\n",
    "\n",
    "b / sin(theta) = hypp / sin(90)\n",
    "\n",
    "\n"
   ]
  },
  {
   "cell_type": "code",
   "execution_count": 5,
   "id": "522f3d8c",
   "metadata": {},
   "outputs": [
    {
     "data": {
      "text/plain": [
       "(5,)"
      ]
     },
     "execution_count": 5,
     "metadata": {},
     "output_type": "execute_result"
    }
   ],
   "source": [
    "import numpy as np\n",
    "\n",
    "array1 = np.zeros(5)\n",
    "array1.shape\n"
   ]
  },
  {
   "cell_type": "code",
   "execution_count": 8,
   "id": "f4706f98",
   "metadata": {},
   "outputs": [
    {
     "data": {
      "text/plain": [
       "(5, 5, 4, 3, 2093)"
      ]
     },
     "execution_count": 8,
     "metadata": {},
     "output_type": "execute_result"
    }
   ],
   "source": [
    "(5,5, 4, 3, 2093)"
   ]
  },
  {
   "cell_type": "code",
   "execution_count": 11,
   "id": "c58266a1",
   "metadata": {},
   "outputs": [
    {
     "data": {
      "text/plain": [
       "array([[0., 0., 0., 0., 0.],\n",
       "       [0., 0., 0., 0., 0.],\n",
       "       [0., 0., 0., 0., 0.],\n",
       "       [0., 0., 0., 0., 0.],\n",
       "       [0., 0., 0., 0., 0.]])"
      ]
     },
     "execution_count": 11,
     "metadata": {},
     "output_type": "execute_result"
    }
   ],
   "source": [
    "np.zeros((5,5))"
   ]
  },
  {
   "cell_type": "code",
   "execution_count": 30,
   "id": "0f1eaa81",
   "metadata": {},
   "outputs": [
    {
     "data": {
      "text/plain": [
       "array([ 3,  5,  7,  9, 11])"
      ]
     },
     "execution_count": 30,
     "metadata": {},
     "output_type": "execute_result"
    }
   ],
   "source": [
    "array1 = np.asarray([1,2,3,4,5])\n",
    "array1 * 2 + 1\n",
    "\n",
    "def function_to_multiply(array_input):\n",
    "\n",
    "    return array_input * 2 + 1\n",
    "\n",
    "\n",
    "function_to_multiply(array1)"
   ]
  },
  {
   "cell_type": "code",
   "execution_count": 31,
   "id": "5c68f4ac",
   "metadata": {},
   "outputs": [
    {
     "data": {
      "text/plain": [
       "-0.4161468365471424"
      ]
     },
     "execution_count": 31,
     "metadata": {},
     "output_type": "execute_result"
    }
   ],
   "source": [
    "np.cos(2)"
   ]
  },
  {
   "cell_type": "code",
   "execution_count": 34,
   "id": "6745ea88",
   "metadata": {},
   "outputs": [
    {
     "data": {
      "text/plain": [
       "1.0"
      ]
     },
     "execution_count": 34,
     "metadata": {},
     "output_type": "execute_result"
    }
   ],
   "source": [
    "length / np.sin(np.pi/2)"
   ]
  },
  {
   "cell_type": "code",
   "execution_count": 40,
   "id": "9f4d89f0",
   "metadata": {},
   "outputs": [
    {
     "data": {
      "text/plain": [
       "0.8660254037844386"
      ]
     },
     "execution_count": 40,
     "metadata": {},
     "output_type": "execute_result"
    }
   ],
   "source": [
    "theta = np.pi/3\n",
    "np.sin(theta)"
   ]
  },
  {
   "cell_type": "code",
   "execution_count": 39,
   "id": "46e60968",
   "metadata": {},
   "outputs": [
    {
     "data": {
      "text/plain": [
       "0.5"
      ]
     },
     "execution_count": 39,
     "metadata": {},
     "output_type": "execute_result"
    }
   ],
   "source": [
    "theta = np.pi/3\n",
    "np.sin(np.pi/2 - theta)\n",
    "\n"
   ]
  },
  {
   "cell_type": "code",
   "execution_count": 1,
   "id": "241a122e",
   "metadata": {
    "cell_id": "00003-d396f4fb-6691-4704-beae-8380609490b0",
    "deepnote_cell_height": 112,
    "deepnote_cell_type": "code",
    "deepnote_to_be_reexecuted": false,
    "execution_millis": 1,
    "execution_start": 1658110137549,
    "source_hash": "12006dd8"
   },
   "outputs": [
    {
     "ename": "ModuleNotFoundError",
     "evalue": "No module named 'Practical02_Support'",
     "output_type": "error",
     "traceback": [
      "\u001b[0;31m---------------------------------------------------------------------------\u001b[0m",
      "\u001b[0;31mModuleNotFoundError\u001b[0m                       Traceback (most recent call last)",
      "\u001b[0;32m/var/folders/x2/bt81rqpj7pl_j7fczgml3pd80000gn/T/ipykernel_72322/2833865159.py\u001b[0m in \u001b[0;36m<module>\u001b[0;34m\u001b[0m\n\u001b[1;32m      1\u001b[0m \u001b[0;32mimport\u001b[0m \u001b[0mnumpy\u001b[0m \u001b[0;32mas\u001b[0m \u001b[0mnp\u001b[0m\u001b[0;34m\u001b[0m\u001b[0;34m\u001b[0m\u001b[0m\n\u001b[0;32m----> 2\u001b[0;31m \u001b[0;32mfrom\u001b[0m \u001b[0mPractical02_Support\u001b[0m\u001b[0;34m.\u001b[0m\u001b[0mRenderer\u001b[0m \u001b[0;32mimport\u001b[0m \u001b[0;34m*\u001b[0m\u001b[0;34m\u001b[0m\u001b[0;34m\u001b[0m\u001b[0m\n\u001b[0m\u001b[1;32m      3\u001b[0m \u001b[0;32mfrom\u001b[0m \u001b[0mece4078\u001b[0m\u001b[0;34m.\u001b[0m\u001b[0mUtility\u001b[0m \u001b[0;32mimport\u001b[0m \u001b[0mStartMeshcat\u001b[0m\u001b[0;34m\u001b[0m\u001b[0;34m\u001b[0m\u001b[0m\n",
      "\u001b[0;31mModuleNotFoundError\u001b[0m: No module named 'Practical02_Support'"
     ]
    }
   ],
   "source": [
    "import numpy as np\n",
    "from Practical02_Support.Renderer import *\n",
    "from ece4078.Utility import StartMeshcat"
   ]
  },
  {
   "cell_type": "code",
   "execution_count": null,
   "id": "f6508903",
   "metadata": {
    "cell_id": "7d6106c67fc94f998573430e67f3f40b",
    "deepnote_cell_height": 76,
    "deepnote_cell_type": "code",
    "deepnote_to_be_reexecuted": false,
    "execution_millis": 14,
    "execution_start": 1658110140001,
    "source_hash": "34afddb1",
    "tags": []
   },
   "outputs": [],
   "source": [
    "vis = StartMeshcat()"
   ]
  },
  {
   "cell_type": "markdown",
   "id": "881e8a10",
   "metadata": {
    "cell_id": "00004-944a571e-50a9-4e78-84a6-2d21b56d556f",
    "deepnote_cell_height": 82,
    "deepnote_cell_type": "markdown"
   },
   "source": [
    "# Coding exercises"
   ]
  },
  {
   "cell_type": "markdown",
   "id": "81745190",
   "metadata": {
    "cell_id": "00005-7e7ddc12-aa65-46b9-818f-263f2837edfa",
    "deepnote_cell_height": 849.2000122070312,
    "deepnote_cell_type": "markdown"
   },
   "source": [
    "# Exercise 1 (2pts): Determine the Location of the Rear Wheel \n",
    "    \n",
    "![bicycle.png](https://i.imgur.com/zIhei8A.png)\n",
    "\n",
    "Given the known 2D location of the centre of the front wheel of the bicycle ($x_f$, $y_f$), determine the location of the centre of the rear wheel ($x, y$) in the world frame. \n",
    "\n",
    "**Input**:\n",
    "- 1D array of shape 2x1 with the location of the front wheel (front_wheel_loc)\n",
    "- Orientation of the bicycle in radians (theta)\n",
    "- Bicycle length (length)\n",
    "\n",
    "**Output**:\n",
    "- 1D array of shape 2x1 with the location of the rear wheel in the world frame (values should not be rounded)"
   ]
  },
  {
   "cell_type": "code",
   "execution_count": null,
   "id": "6298bb9c",
   "metadata": {
    "cell_id": "00006-97e3aef1-0f76-4fab-aad0-a1abf4d2d394",
    "deepnote_cell_height": 202,
    "deepnote_cell_type": "code",
    "deepnote_to_be_reexecuted": false,
    "execution_millis": 1,
    "execution_start": 1658110143919,
    "source_hash": "c840dbc6"
   },
   "outputs": [],
   "source": [
    "def get_rear_wheel_location(front_wheel_loc=np.zeros(2), theta=0, length=0):\n",
    "    rear_wheel_loc = np.zeros(2)\n",
    "    \n",
    "    #TODO: Add your code here  ------------------------------------------\n",
    "    \n",
    "    #ENDTODO -----------------------------------------------------------\n",
    "    \n",
    "    return rear_wheel_loc"
   ]
  },
  {
   "cell_type": "markdown",
   "id": "25cc48c7",
   "metadata": {
    "cell_id": "00007-3ee83e79-391a-4148-b17f-d47868470e61",
    "deepnote_cell_height": 133.60000610351562,
    "deepnote_cell_type": "markdown"
   },
   "source": [
    "**Test your code**\n",
    "\n",
    "We have included a plot function ``display_bycicle_wheels`` to help you verify your answers. The function will display two frames, one to represent the rear wheel (red) and another to represent the front wheel (blue). Similarly, the function assumes that the steering angle $\\delta$ is set to zero. Here is an example of how to use it:"
   ]
  },
  {
   "cell_type": "code",
   "execution_count": null,
   "id": "6a96dbe6",
   "metadata": {
    "cell_id": "00008-19439ddf-e950-4e50-8b31-ad81ef2fa81b",
    "deepnote_cell_height": 148,
    "deepnote_cell_type": "code",
    "deepnote_to_be_reexecuted": false,
    "execution_millis": 361,
    "execution_start": 1658110145514,
    "source_hash": "97d48256"
   },
   "outputs": [],
   "source": [
    "front_wheel = np.ones(2)*2\n",
    "theta_angle = 0\n",
    "rear_wheel = get_rear_wheel_location(front_wheel_loc=front_wheel, theta=theta_angle, length=0.5)\n",
    "\n",
    "display_bicycle_wheels(rear_wheel, front_wheel, theta=theta_angle)"
   ]
  },
  {
   "cell_type": "markdown",
   "id": "7a373172",
   "metadata": {
    "cell_id": "00009-88189626-fa14-4315-bb49-6596c1006cb6",
    "deepnote_cell_height": 128.35000610351562,
    "deepnote_cell_type": "markdown"
   },
   "source": [
    "As visual test cases, we recommend to consider:\n",
    "\n",
    "- Where should be the front wheel if $\\theta=0$?\n",
    "- Where should be the front wheel if $\\theta=\\frac{\\pi}{2}$?"
   ]
  },
  {
   "cell_type": "markdown",
   "id": "5c25c974",
   "metadata": {
    "cell_id": "00010-afde78ba-906c-490c-bd39-50a5c66c24c6",
    "deepnote_cell_height": 547.5999755859375,
    "deepnote_cell_type": "markdown"
   },
   "source": [
    "### Exercise 2 (3pts): Extend Bicycle Model to Consider Velocity and Steering Angle Rate as Inputs\n",
    "    \n",
    "In the example of the bicycle model, the bicycle took as inputs velocity $v$ and steering angle $\\delta$.\n",
    "\n",
    "We now want to modify our model so that it receives velocity $v$ and steering rate $\\varphi$ as control inputs instead. With this new control input, the bicycle state is now defined by its 2D position $(x,y)$,  orientation ($\\theta$) and steering angle ($\\delta$).\n",
    "\n",
    "You are tasked with deriving the revised model to handle the modified inputs and using the new model to compute the bicycle state for a total of $max\\_T$ iterations using this new control input.\n",
    "\n",
    "Your code should input a constant input velocity and steering rate at each time step.\n",
    "\n",
    "**Input**:\n",
    "- 1D array with the initial bicycle state $[x, y, \\theta, \\delta]$\n",
    "- Bicycle length (length)\n",
    "- Maximum number of iterations (max_t)\n",
    "- Input velocity ($v_i$)\n",
    "- Input Steering_rate (phi)\n",
    "\n",
    "\n",
    "**Output**:\n",
    "- Array of bicycle states of length max_t. Column order must be $[x, y, \\theta, \\delta]$ (values should not be rounded)"
   ]
  },
  {
   "cell_type": "code",
   "execution_count": null,
   "id": "b60b2803",
   "metadata": {
    "cell_id": "00011-3b8241af-ed08-44b6-a296-523f65d04d04",
    "deepnote_cell_height": 274,
    "deepnote_cell_type": "code",
    "deepnote_to_be_reexecuted": false,
    "execution_millis": 2,
    "execution_start": 1658110150382,
    "source_hash": "d16fbf1c"
   },
   "outputs": [],
   "source": [
    "def get_bicycle_trajectory(initial_state = np.array([1, 1, 0, 0]), length=1, max_t=100, v=0, phi=0):\n",
    "    \n",
    "    dt = 0.02\n",
    "    states = np.zeros((max_t+1, initial_state.shape[0]))\n",
    "    states[0,:] = initial_state\n",
    "    \n",
    "    \n",
    "    #TODO: Add your code here --------------------------------------------\n",
    "    \n",
    "    #ENDTODO -------------------------------------------------------------\n",
    "        \n",
    "    return states"
   ]
  },
  {
   "cell_type": "markdown",
   "id": "5fe0c8c6",
   "metadata": {
    "cell_id": "00012-55dd77d7-f0fd-4111-85a1-4e09644aa41a",
    "deepnote_cell_height": 88.80000305175781,
    "deepnote_cell_type": "markdown"
   },
   "source": [
    "**Test your code**\n",
    "\n",
    "We have included a rendering class to help you verify your answers. Here is an example of how to use it:"
   ]
  },
  {
   "cell_type": "markdown",
   "id": "22d191b0",
   "metadata": {},
   "source": [
    "\n",
    "b / sin(theta) = hypp / sin(90) = a / sin(theta - 1)\n",
    "\n",
    "\n",
    "b / sin(theta) = hypp / sin(90)\n"
   ]
  },
  {
   "cell_type": "markdown",
   "id": "5cf10b30",
   "metadata": {
    "cell_id": "00013-f7751fbc-5e80-4dc8-a9e5-87378457bcd7",
    "deepnote_cell_height": 310,
    "deepnote_cell_type": "code",
    "deepnote_to_be_reexecuted": false,
    "execution_millis": 37,
    "execution_start": 1658110171247,
    "output_cleared": true,
    "source_hash": "480062fe"
   },
   "source": [
    "# Input parameters\n",
    "initial_state=np.array([5, -5, np.pi/2, 0.1])\n",
    "length=1\n",
    "max_t=250\n",
    "v_i=2.3\n",
    "phi=0.2\n",
    "\n",
    "trj = get_bicycle_trajectory(initial_state, length, max_t, v_i, phi)\n",
    "\n",
    "vis.delete()\n",
    "vis.Set2DView(scale = abs(initial_state[0]) + 1)\n",
    "vis.mask_origin()\n",
    "display_traj(vis, trj[:, :3], scale = 6)\n",
    "display(vis.show_inline())"
   ]
  },
  {
   "cell_type": "markdown",
   "id": "e38440e6",
   "metadata": {
    "cell_id": "00014-42684fae-6a47-4104-a8c6-ab2303f14729",
    "deepnote_cell_height": 153.60000610351562,
    "deepnote_cell_type": "markdown"
   },
   "source": [
    "As visual test cases, we recommend you to keep in mind that:\n",
    "\n",
    "- The bicycle should move in a straight line if $\\delta=0$, and $\\varphi=0$\n",
    "- The bicycle should move in a circular trajectory if $v \\ne 0$, $\\delta \\ne 0$, and $\\varphi=0$\n",
    "- The bicycle should move in a spiral trajectory if $v \\ne 0$, and $\\varphi\\ne0$"
   ]
  },
  {
   "cell_type": "markdown",
   "id": "baac5086",
   "metadata": {
    "cell_id": "00015-229c5b94-d897-426a-9daa-0d8adedf566e",
    "deepnote_cell_height": 943.7333374023438,
    "deepnote_cell_type": "markdown"
   },
   "source": [
    "### Exercise 3 (2pts): Differential Drive Kinematic Model\n",
    "\n",
    "Let us consider a two-wheeled vehicle that has the rotation rate of the wheels as control inputs. \n",
    "\n",
    "![diff_drive.png](https://i.imgur.com/IuNNzVB.png)\n",
    "\n",
    "Given the kinematic constraints that relate the wheel rotation rates to the linear and angular velocity of the PenguiPi robot: \n",
    "\n",
    "$$\n",
    "v=\\frac{rw_1 + rw_2}{2} \n",
    "$$\n",
    "$$\n",
    "\\omega=\\frac{rw_1 - rw_2}{l}\n",
    "$$\n",
    "\n",
    "compute the state, i.e., $[x, y, \\theta]$ of the PenguiPi robot for a total of $T_{max}$ iterations using this new control input.\n",
    "\n",
    "**Input**:\n",
    "- 1D array with the initial robot state $[x, y, \\theta]$\n",
    "- Wheels width (length, l)\n",
    "- Wheels radius (wheel_radius, r)\n",
    "- Maximum number of iterations (max_t)\n",
    "- Rotation rate of the right wheel (right_rate)\n",
    "- Rotation rate of the left wheel (left_rate)\n",
    "\n",
    "**Output**:\n",
    "- Array of robot states of lenght max_t. Column order must be $[x, y, \\theta]$ (values should not be rounded)"
   ]
  },
  {
   "cell_type": "code",
   "execution_count": null,
   "id": "99ecb502",
   "metadata": {
    "cell_id": "00016-4941fc4c-939f-467a-b9d6-71ae1b7f9484",
    "deepnote_cell_height": 274,
    "deepnote_cell_type": "code",
    "deepnote_to_be_reexecuted": false,
    "execution_millis": 1,
    "execution_start": 1658110193285,
    "source_hash": "a843f10c"
   },
   "outputs": [],
   "source": [
    "def get_penguipi_trajectory(initial_state = np.array([1, 1, 0]), length=1, wheel_radius=0.1,\n",
    "                            right_rate=0, left_rate=0, max_t=100):\n",
    "    \n",
    "    dt = 0.1\n",
    "    states = np.zeros((max_t+1, initial_state.shape[0]))\n",
    "    states[0, :] = initial_state\n",
    "    \n",
    "    #TODO: Add your code here --------------------------------------------\n",
    "    \n",
    "    #ENDTODO -------------------------------------------------------------\n",
    "        \n",
    "    return states"
   ]
  },
  {
   "cell_type": "markdown",
   "id": "ad3f4a43",
   "metadata": {
    "cell_id": "00017-f4f25875-ff3b-4a8c-a6db-001c5207b629",
    "deepnote_cell_height": 88.80000305175781,
    "deepnote_cell_type": "markdown"
   },
   "source": [
    "**Test your code**\n",
    "\n",
    "We have included a rendering class to help you verify your answers. Here is an example of how to use it:\n"
   ]
  },
  {
   "cell_type": "code",
   "execution_count": null,
   "id": "e6ca6013",
   "metadata": {
    "cell_id": "00018-0aade051-b240-4349-a6cc-b1c03b576732",
    "deepnote_cell_height": 328,
    "deepnote_cell_type": "code",
    "deepnote_to_be_reexecuted": false,
    "execution_millis": 36,
    "execution_start": 1658110216836,
    "owner_user_id": "39e5588c-373b-434e-8bfa-8e48976ef92a",
    "source_hash": "43ed3677"
   },
   "outputs": [],
   "source": [
    "# Input parameters\n",
    "initial_state=np.array([0, 0, np.pi/6])\n",
    "length=1\n",
    "wheel_radius=0.2\n",
    "right_rate=10\n",
    "left_rate=5\n",
    "max_t=100\n",
    "\n",
    "trj = get_penguipi_trajectory(initial_state, length, wheel_radius, right_rate, left_rate, max_t)\n",
    "\n",
    "vis.delete()\n",
    "vis.Set2DView(scale = 4)\n",
    "vis.mask_origin()\n",
    "display_traj(vis, trj[:, :3], scale = 6)\n",
    "display(vis.show_inline())"
   ]
  },
  {
   "cell_type": "markdown",
   "id": "398c39d2",
   "metadata": {
    "cell_id": "00019-f80b10a8-1bbe-46fa-b584-3d3ad31592b6",
    "deepnote_cell_height": 153.60000610351562,
    "deepnote_cell_type": "markdown"
   },
   "source": [
    "As visual test cases, we recommend you to keep in mind that:\n",
    "\n",
    "- The PenguiPi robot should move in a straight line if $w_1=w_2$\n",
    "- The PenguiPi robot should turn to the left if $w_1>w_2$ (the right wheel moves faster than the left wheel)\n",
    "- The PenguiPi robot should turn to the right if $w_1<w_2$ (the left wheel moves faster than the right wheel)"
   ]
  },
  {
   "cell_type": "markdown",
   "id": "e3320ae1",
   "metadata": {
    "cell_id": "00020-7a4b4807-dfd2-41f5-93b8-72b00cf21744",
    "deepnote_cell_height": 385.20001220703125,
    "deepnote_cell_type": "markdown"
   },
   "source": [
    "# Grading\n",
    "Test cases for giving marks:\n",
    "- q1: Assess the `get_rear_wheel_location` function (2 points)\n",
    "- q2: Assess the `get_bicycle_trajectory` function (3 points)\n",
    "- q3: Assess the `get_penguipi_trajectory` function (2 points)\n",
    "\n",
    "Hint: For question 2 and question 3, the body should have something like \n",
    "```\n",
    "for i in range(max_t):\n",
    "    ...\n",
    "    states[i+1,:] = ...\n",
    "```\n",
    "Because this is how the solution is constructed, the trajectory has `states[0, :] = initial_state` and the length of the trajectory should be equal to `max_t + 1`"
   ]
  },
  {
   "cell_type": "code",
   "execution_count": null,
   "id": "d7560979",
   "metadata": {
    "cell_id": "00021-bc254610-6b1b-4d3b-9661-df80cda17076",
    "deepnote_cell_height": 97,
    "deepnote_cell_type": "code"
   },
   "outputs": [],
   "source": [
    "import otter\n",
    "grader = otter.Notebook(tests_dir = \"Practical02_Support/tests\")\n",
    "grader.check_all()"
   ]
  },
  {
   "cell_type": "markdown",
   "id": "2aff4274",
   "metadata": {
    "created_in_deepnote_cell": true,
    "deepnote_cell_type": "markdown",
    "tags": []
   },
   "source": [
    "<a style='text-decoration:none;line-height:16px;display:flex;color:#5B5B62;padding:10px;justify-content:end;' href='https://deepnote.com?utm_source=created-in-deepnote-cell&projectId=e09a2c46-66e4-4822-9f63-abca8470f17c' target=\"_blank\">\n",
    "<img alt='Created in deepnote.com' style='display:inline;max-height:16px;margin:0px;margin-right:7.5px;' src='data:image/svg+xml;base64,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' > </img>\n",
    "Created in <span style='font-weight:600;margin-left:4px;'>Deepnote</span></a>"
   ]
  }
 ],
 "metadata": {
  "deepnote": {},
  "deepnote_execution_queue": [],
  "deepnote_notebook_id": "5c8567d1-80a3-4a5f-953d-816c417d2c17",
  "kernelspec": {
   "display_name": "Python 3 (ipykernel)",
   "language": "python",
   "name": "python3"
  },
  "language_info": {
   "codemirror_mode": {
    "name": "ipython",
    "version": 3
   },
   "file_extension": ".py",
   "mimetype": "text/x-python",
   "name": "python",
   "nbconvert_exporter": "python",
   "pygments_lexer": "ipython3",
   "version": "3.9.7"
  }
 },
 "nbformat": 4,
 "nbformat_minor": 5
}
