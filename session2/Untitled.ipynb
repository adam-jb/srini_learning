{
 "cells": [
  {
   "cell_type": "code",
   "execution_count": 11,
   "id": "82e5eebc",
   "metadata": {},
   "outputs": [
    {
     "data": {
      "text/plain": [
       "customer_info(name='john', age=52)"
      ]
     },
     "execution_count": 11,
     "metadata": {},
     "output_type": "execute_result"
    }
   ],
   "source": [
    "from dataclasses import dataclass\n",
    "\n",
    "\n",
    "# @ = decorator. \n",
    "@dataclass\n",
    "class customer_info:\n",
    "    name: str\n",
    "    age: float\n",
    "\n",
    "    def increase_age_after_birthday(self):\n",
    "        self.age = self.age + 1\n",
    "    \n",
    "\n",
    "customer1 = customer_info('john', 47)\n",
    "\n",
    "dir(customer1)\n",
    "\n",
    "customer1.increase_age_after_birthday()\n",
    "customer1.increase_age_after_birthday()\n",
    "\n",
    "customer1.increase_age_after_birthday()\n",
    "\n",
    "customer1.increase_age_after_birthday()\n",
    "\n",
    "customer1.increase_age_after_birthday()\n",
    "\n",
    "customer1"
   ]
  },
  {
   "cell_type": "code",
   "execution_count": 15,
   "id": "beade8b7",
   "metadata": {},
   "outputs": [
    {
     "data": {
      "text/plain": [
       "dict_keys([1, 'kjnsdjkngdkngfdl'])"
      ]
     },
     "execution_count": 15,
     "metadata": {},
     "output_type": "execute_result"
    }
   ],
   "source": [
    "\n",
    "our_list = list([1,3,4])\n",
    "our_dictionary = {1:[1,2], 'kjnsdjkngdkngfdl':[4,5]}  # key/value pairs\n",
    "\n",
    "dir(our_dictionary)\n",
    "our_dictionary.keys()\n",
    "\n"
   ]
  },
  {
   "cell_type": "code",
   "execution_count": 17,
   "id": "558d6118",
   "metadata": {},
   "outputs": [
    {
     "data": {
      "text/plain": [
       "[1, 3, 4]"
      ]
     },
     "execution_count": 17,
     "metadata": {},
     "output_type": "execute_result"
    }
   ],
   "source": [
    "our_list"
   ]
  },
  {
   "cell_type": "code",
   "execution_count": null,
   "id": "3bd719bc",
   "metadata": {},
   "outputs": [],
   "source": []
  }
 ],
 "metadata": {
  "kernelspec": {
   "display_name": "Python 3 (ipykernel)",
   "language": "python",
   "name": "python3"
  },
  "language_info": {
   "codemirror_mode": {
    "name": "ipython",
    "version": 3
   },
   "file_extension": ".py",
   "mimetype": "text/x-python",
   "name": "python",
   "nbconvert_exporter": "python",
   "pygments_lexer": "ipython3",
   "version": "3.9.7"
  }
 },
 "nbformat": 4,
 "nbformat_minor": 5
}
